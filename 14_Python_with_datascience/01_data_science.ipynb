{
 "cells": [
  {
   "cell_type": "markdown",
   "id": "17047a15",
   "metadata": {},
   "source": [
    "### Welcome to python with data science"
   ]
  },
  {
   "cell_type": "code",
   "execution_count": 2,
   "id": "e56b548c",
   "metadata": {},
   "outputs": [
    {
     "name": "stdout",
     "output_type": "stream",
     "text": [
      "Hello world\n",
      "Hello\n",
      "World\n"
     ]
    }
   ],
   "source": [
    "print(\"Hello world\")\n",
    "print(\"Hello\\nWorld\")"
   ]
  },
  {
   "cell_type": "markdown",
   "id": "f6990d8b",
   "metadata": {},
   "source": [
    "## Data Types"
   ]
  },
  {
   "cell_type": "code",
   "execution_count": null,
   "id": "ae58b74a",
   "metadata": {},
   "outputs": [],
   "source": []
  },
  {
   "cell_type": "code",
   "execution_count": null,
   "id": "b37253b5",
   "metadata": {},
   "outputs": [
    {
     "name": "stdout",
     "output_type": "stream",
     "text": [
      "<class 'int'>\n",
      "<class 'float'>\n",
      "<class 'str'>\n",
      "10.0\n",
      "2\n"
     ]
    }
   ],
   "source": [
    "a=10\n",
    "b=2.8\n",
    "s=\"hellop python lover\"\n",
    "print(type(a))\n",
    "print(type(b))\n",
    "print(type(s))\n",
    "\n",
    "# Type Casting\n",
    "print(float(a))\n",
    "print(type(a))\n",
    "print(int(b))\n",
    "\n",
    "\n"
   ]
  },
  {
   "cell_type": "markdown",
   "id": "aac74ae4",
   "metadata": {},
   "source": [
    "## Expression And Variable"
   ]
  },
  {
   "cell_type": "code",
   "execution_count": null,
   "id": "56d0f2b2",
   "metadata": {},
   "outputs": [],
   "source": [
    "my_variable = 1\n",
    "\n",
    "# expression\n",
    "x= 43+60+16+41"
   ]
  },
  {
   "cell_type": "markdown",
   "id": "cc861b0b",
   "metadata": {},
   "source": [
    "## String Operations"
   ]
  },
  {
   "cell_type": "code",
   "execution_count": 24,
   "id": "0b3fb235",
   "metadata": {},
   "outputs": [
    {
     "name": "stdout",
     "output_type": "stream",
     "text": [
      "ABCD\n",
      "Good\n"
     ]
    },
    {
     "data": {
      "text/plain": [
       "11"
      ]
     },
     "execution_count": 24,
     "metadata": {},
     "output_type": "execute_result"
    }
   ],
   "source": [
    "# string Slicing\n",
    "\n",
    "Letters=\"ABCDEFGHIJK\"\n",
    "print(Letters[0:4])\n",
    "\n",
    "# Stride step size\n",
    "Good=\"GsoAo+d\"\n",
    "step=Good[::2]\n",
    "print(step)\n",
    "len(Letters)"
   ]
  },
  {
   "cell_type": "code",
   "execution_count": 20,
   "id": "0207bde3",
   "metadata": {},
   "outputs": [
    {
     "name": "stdout",
     "output_type": "stream",
     "text": [
      "UPPERCASE\n"
     ]
    },
    {
     "data": {
      "text/plain": [
       "'uppercase'"
      ]
     },
     "execution_count": 20,
     "metadata": {},
     "output_type": "execute_result"
    }
   ],
   "source": [
    "# converting uppercase & lowerCase\n",
    "a=\"uppercase\".upper()\n",
    "print(a)\n",
    "a.lower()"
   ]
  },
  {
   "cell_type": "code",
   "execution_count": null,
   "id": "256f7b72",
   "metadata": {},
   "outputs": [
    {
     "name": "stdout",
     "output_type": "stream",
     "text": [
      "michkel jactionis the best\n"
     ]
    }
   ],
   "source": [
    "# concating string\n",
    "name =\"michkel jackson\" \n",
    "statement = name + \"is the best\"\n",
    "print(statement)"
   ]
  },
  {
   "cell_type": "code",
   "execution_count": null,
   "id": "eb33f7bd",
   "metadata": {},
   "outputs": [
    {
     "name": "stdout",
     "output_type": "stream",
     "text": [
      "michkel jacksonmichkel jacksonmichkel jackson\n",
      "michkel jacksonmichkel jacksonmichkel jacksonis the best\n"
     ]
    }
   ],
   "source": [
    "# replicating string\n",
    "name = 3*\"michkel jackson\"\n",
    "print(name)\n",
    "\n",
    "# you cannot change the string but we create new string\n",
    "#name[0] = \"j\" string is immutable\n",
    "name = name + \"is the best\"\n",
    "print(name)"
   ]
  },
  {
   "cell_type": "markdown",
   "id": "06192f78",
   "metadata": {},
   "source": [
    "### string escape sequence\n",
    "\\ are meant to proceed escape sequences\n",
    "escape sequence are strings that are difficult to input \n"
   ]
  },
  {
   "cell_type": "code",
   "execution_count": null,
   "id": "3959a8f9",
   "metadata": {},
   "outputs": [
    {
     "name": "stdout",
     "output_type": "stream",
     "text": [
      "Mickel Jackson \n",
      " is the best\n",
      "Mickel Jackson \t is the best\n",
      "Mickel Jackson \\ is the best\n",
      "Mickel Jackson \\ is the best\n"
     ]
    }
   ],
   "source": [
    "print(\"Mickel Jackson \\n is the best\")\n",
    "print(\"Mickel Jackson \\t is the best\") # it give tab\n",
    "print(\"Mickel Jackson \\\\ is the best\") # we can use r also \n",
    "print(r\"Mickel Jackson \\ is the best\")"
   ]
  },
  {
   "cell_type": "code",
   "execution_count": 39,
   "id": "e3ded461",
   "metadata": {},
   "outputs": [
    {
     "name": "stdout",
     "output_type": "stream",
     "text": [
      "Janet jackson\n"
     ]
    },
    {
     "data": {
      "text/plain": [
       "8"
      ]
     },
     "execution_count": 39,
     "metadata": {},
     "output_type": "execute_result"
    }
   ],
   "source": [
    "# methods of string\n",
    "A =\"michkel jackson\"\n",
    "B = A.replace(\"michkel\", \"Janet\")\n",
    "print(B)\n",
    "A.find(\"j\")"
   ]
  },
  {
   "cell_type": "markdown",
   "id": "7407bf54",
   "metadata": {},
   "source": [
    "## Lists And Tuples\n",
    "Tuple are an ordered sequence\n",
    "Tuples are immutable\n"
   ]
  },
  {
   "cell_type": "code",
   "execution_count": null,
   "id": "a5da103a",
   "metadata": {},
   "outputs": [
    {
     "name": "stdout",
     "output_type": "stream",
     "text": [
      "<class 'tuple'>\n"
     ]
    },
    {
     "data": {
      "text/plain": [
       "80"
      ]
     },
     "execution_count": 43,
     "metadata": {},
     "output_type": "execute_result"
    }
   ],
   "source": [
    "# creating tuple\n",
    "rating = (10,20,30,40,60,70,50,80)\n",
    "tuple1 = ('disco',10,1.5)\n",
    "print(type(tuple1))\n",
    "\n",
    "# accessing the tuple\n",
    "rating[0]\n",
    "rating[-1]\n",
    " "
   ]
  },
  {
   "cell_type": "code",
   "execution_count": 45,
   "id": "8355afa3",
   "metadata": {},
   "outputs": [
    {
     "name": "stdout",
     "output_type": "stream",
     "text": [
      "('disco', 10, 1.5, 'hard rock', 10)\n"
     ]
    }
   ],
   "source": [
    "tuple1 = ('disco',10,1.5)\n",
    "tuple2= tuple1 + (\"hard rock\", 10)\n",
    "print(tuple2)"
   ]
  },
  {
   "cell_type": "code",
   "execution_count": 48,
   "id": "771ec7ce",
   "metadata": {},
   "outputs": [
    {
     "name": "stdout",
     "output_type": "stream",
     "text": [
      "(10, 20, 30, 40, 50)\n"
     ]
    },
    {
     "data": {
      "text/plain": [
       "8"
      ]
     },
     "execution_count": 48,
     "metadata": {},
     "output_type": "execute_result"
    }
   ],
   "source": [
    "# slicing tuple\n",
    "print(rating[0:5])\n",
    "len(rating)"
   ]
  },
  {
   "cell_type": "code",
   "execution_count": 49,
   "id": "3a8bbd3b",
   "metadata": {},
   "outputs": [
    {
     "ename": "TypeError",
     "evalue": "'tuple' object does not support item assignment",
     "output_type": "error",
     "traceback": [
      "\u001b[31m---------------------------------------------------------------------------\u001b[39m",
      "\u001b[31mTypeError\u001b[39m                                 Traceback (most recent call last)",
      "\u001b[36mCell\u001b[39m\u001b[36m \u001b[39m\u001b[32mIn[49]\u001b[39m\u001b[32m, line 2\u001b[39m\n\u001b[32m      1\u001b[39m \u001b[38;5;66;03m# tuple are immutable\u001b[39;00m\n\u001b[32m----> \u001b[39m\u001b[32m2\u001b[39m \u001b[43mrating\u001b[49m\u001b[43m[\u001b[49m\u001b[32;43m2\u001b[39;49m\u001b[43m]\u001b[49m = \u001b[32m45\u001b[39m\n\u001b[32m      3\u001b[39m \u001b[38;5;28mprint\u001b[39m(rating)\n",
      "\u001b[31mTypeError\u001b[39m: 'tuple' object does not support item assignment"
     ]
    }
   ],
   "source": [
    "# tuple are immutable\n",
    "rating[2] = 45\n",
    "print(rating)"
   ]
  },
  {
   "cell_type": "code",
   "execution_count": 54,
   "id": "df3457dc",
   "metadata": {},
   "outputs": [
    {
     "name": "stdout",
     "output_type": "stream",
     "text": [
      "[10, 20, 30, 40, 50, 60, 70, 80]\n"
     ]
    }
   ],
   "source": [
    "# if we want to manipulate a tuple we create new tuple by applying sorted method\n",
    "ratingSorted = sorted(rating)\n",
    "print(ratingSorted)"
   ]
  },
  {
   "cell_type": "code",
   "execution_count": 55,
   "id": "ea2cb1a0",
   "metadata": {},
   "outputs": [
    {
     "data": {
      "text/plain": [
       "1"
      ]
     },
     "execution_count": 55,
     "metadata": {},
     "output_type": "execute_result"
    }
   ],
   "source": [
    "# Nesting of tuple\n",
    "NT = (1,2,(\"pop\", \"rock\"),(3,4),(\"disco\",(1,2)))\n",
    "NT[4][1][0]"
   ]
  },
  {
   "cell_type": "markdown",
   "id": "85fd9587",
   "metadata": {},
   "source": [
    "### Lists\n",
    "Lists are also Ordered Sequences.\n",
    "A list is represented with square brackets.\n",
    "List are mutable\n"
   ]
  },
  {
   "cell_type": "code",
   "execution_count": 59,
   "id": "267b2787",
   "metadata": {},
   "outputs": [
    {
     "name": "stdout",
     "output_type": "stream",
     "text": [
      "['Michael Jackson', 10.1, 1982, [1, 2], ('A', 1)]\n"
     ]
    },
    {
     "data": {
      "text/plain": [
       "5"
      ]
     },
     "execution_count": 59,
     "metadata": {},
     "output_type": "execute_result"
    }
   ],
   "source": [
    "list = [\"Michael Jackson\", 10.1,1982,[1,2],('A', 1)]\n",
    "print(list)\n",
    "list[2]\n",
    "list[-1]\n",
    "len(list)"
   ]
  },
  {
   "cell_type": "code",
   "execution_count": 61,
   "id": "a330640e",
   "metadata": {},
   "outputs": [
    {
     "data": {
      "text/plain": [
       "[1982, [1, 2], ('A', 1)]"
      ]
     },
     "execution_count": 61,
     "metadata": {},
     "output_type": "execute_result"
    }
   ],
   "source": [
    "# Slicing list\n",
    "list[0:5:]\n",
    "list[2:5]"
   ]
  },
  {
   "cell_type": "code",
   "execution_count": null,
   "id": "1a9f2960",
   "metadata": {},
   "outputs": [
    {
     "name": "stdout",
     "output_type": "stream",
     "text": [
      "['Michael Jackson', 10.1, 1982, [1, 2], ('A', 1), 'pop', 10]\n",
      "['Michael Jackson', 10.1, 1982, [1, 2], ('A', 1), 'pop', 10, [1, 2, 5]]\n"
     ]
    }
   ],
   "source": [
    "list = [\"Michael Jackson\", 10.1,1982,[1,2],('A', 1)]\n",
    "list.extend(['pop', 10])\n",
    "print(list)\n",
    "list.append([1,2,5])# append operation give directly add the list as element\n",
    "print(list)"
   ]
  },
  {
   "cell_type": "code",
   "execution_count": null,
   "id": "12534bc3",
   "metadata": {},
   "outputs": [
    {
     "name": "stdout",
     "output_type": "stream",
     "text": [
      "['hard rock', 10.1, 1982, [1, 2], ('A', 1), 'pop', 10, [1, 2, 5]]\n"
     ]
    }
   ],
   "source": [
    "list[0] = \"hard rock\"\n",
    "print(list)\n",
    "\n"
   ]
  },
  {
   "cell_type": "code",
   "execution_count": 99,
   "id": "906846e7",
   "metadata": {},
   "outputs": [
    {
     "name": "stdout",
     "output_type": "stream",
     "text": [
      "['hard rock', 10, 1.2]\n",
      "[10, 1.2]\n"
     ]
    }
   ],
   "source": [
    "A = [\"hard rock\", 10,1.2]\n",
    "print(A)\n",
    "del A[0]\n",
    "print(A)"
   ]
  },
  {
   "cell_type": "code",
   "execution_count": 101,
   "id": "4b89b9b1",
   "metadata": {},
   "outputs": [
    {
     "data": {
      "text/plain": [
       "['A', 'B', 'C', 'D']"
      ]
     },
     "execution_count": 101,
     "metadata": {},
     "output_type": "execute_result"
    }
   ],
   "source": [
    "# split\n",
    "split = \"Hard rock\"\n",
    "split.split()\n",
    "\"A,B,C,D\".split(\",\")"
   ]
  },
  {
   "cell_type": "code",
   "execution_count": 107,
   "id": "e73fd8ef",
   "metadata": {},
   "outputs": [
    {
     "name": "stdout",
     "output_type": "stream",
     "text": [
      "['Banana', 3]\n",
      "['Banana', 3]\n"
     ]
    }
   ],
   "source": [
    "# Lists: Aliasing\n",
    "\n",
    "A = [\"hard rock\", 3]\n",
    "B = A\n",
    "\n",
    "B[0] = \"Banana\"\n",
    "print(B)\n",
    "print(A)"
   ]
  },
  {
   "cell_type": "code",
   "execution_count": null,
   "id": "668c120b",
   "metadata": {},
   "outputs": [],
   "source": [
    "# list Clone\n",
    "Clone = [\"hard rock\", 10, 1.2]\n",
    "b = Clone[:]\n",
    "Clone[0] = \"Soft rock\"\n",
    "print(Clone)\n",
    "b[0] = \"Banana\"\n",
    "print(b)\n",
    "\n",
    "help(Clone)"
   ]
  },
  {
   "cell_type": "markdown",
   "id": "f66372f4",
   "metadata": {},
   "source": [
    "### Sets\n",
    "set don`t allow duplicate value "
   ]
  },
  {
   "cell_type": "code",
   "execution_count": 2,
   "id": "1f80fd30",
   "metadata": {},
   "outputs": [
    {
     "name": "stdout",
     "output_type": "stream",
     "text": [
      "{'rock', 'hard rock', 'r&b', 'pop'}\n",
      "{'Thriller', 'michael Jackson', 1982}\n"
     ]
    }
   ],
   "source": [
    "# creating sets\n",
    "Set1={'pop','rock','hard rock','rock','r&b'}\n",
    "print(Set1)\n",
    "\n",
    "album_list = [\"michael Jackson\",\"Thriller\",\"Thriller\",1982]\n",
    "album_set = set(album_list)\n",
    "print(album_set)"
   ]
  },
  {
   "cell_type": "markdown",
   "id": "a26f8ece",
   "metadata": {},
   "source": [
    "#### Set Operation"
   ]
  },
  {
   "cell_type": "code",
   "execution_count": null,
   "id": "e63e746c",
   "metadata": {},
   "outputs": [
    {
     "name": "stdout",
     "output_type": "stream",
     "text": [
      "{'AC/DC', 'Thriller', 'Back in Black', 'NSYNC'}\n"
     ]
    }
   ],
   "source": [
    "A = {\"Thriller\",\"Back in Black\",\"AC/DC\"}\n",
    "A.add(\"NSYNC\")\n",
    "print(A)"
   ]
  },
  {
   "cell_type": "code",
   "execution_count": 7,
   "id": "0532930c",
   "metadata": {},
   "outputs": [
    {
     "name": "stdout",
     "output_type": "stream",
     "text": [
      "{'AC/DC', 'Thriller', 'Back in Black'}\n"
     ]
    },
    {
     "data": {
      "text/plain": [
       "True"
      ]
     },
     "execution_count": 7,
     "metadata": {},
     "output_type": "execute_result"
    }
   ],
   "source": [
    "# removing element\n",
    "A = {\"Thriller\",\"Back in Black\",\"AC/DC\",\"NSYNC\"}\n",
    "A.remove(\"NSYNC\")\n",
    "print(A)\n",
    "# checking element\n",
    "\"AC/DC\" in A"
   ]
  },
  {
   "cell_type": "markdown",
   "id": "a9e0edeb",
   "metadata": {},
   "source": [
    "#### Mathematical Set Operation"
   ]
  },
  {
   "cell_type": "code",
   "execution_count": 9,
   "id": "f83cf816",
   "metadata": {},
   "outputs": [
    {
     "name": "stdout",
     "output_type": "stream",
     "text": [
      "{'hard rock'}\n"
     ]
    }
   ],
   "source": [
    "Set1={'pop','rock','hard rock','rock','r&b'}\n",
    "Set2 = {\"Thriller\",\"Back in Black\",\"AC/DC\",\"hard rock\"}\n",
    "Set3 = Set1 & Set2\n",
    "print(Set3)"
   ]
  },
  {
   "cell_type": "code",
   "execution_count": 11,
   "id": "fa398af0",
   "metadata": {},
   "outputs": [
    {
     "name": "stdout",
     "output_type": "stream",
     "text": [
      "{'r&b', 'pop', 'Back in Black', 'rock', 'Thriller', 'hard rock', 'AC/DC'}\n"
     ]
    },
    {
     "data": {
      "text/plain": [
       "True"
      ]
     },
     "execution_count": 11,
     "metadata": {},
     "output_type": "execute_result"
    }
   ],
   "source": [
    "Set1={'pop','rock','hard rock','rock','r&b'}\n",
    "Set2 = {\"Thriller\",\"Back in Black\",\"AC/DC\",\"hard rock\"}\n",
    "Set3 = Set1.union(Set2)\n",
    "print(Set3)\n",
    "Set1.issubset(Set3)"
   ]
  },
  {
   "cell_type": "markdown",
   "id": "27385678",
   "metadata": {},
   "source": [
    "## Dictionary\n",
    "it have key value pair.Dictionaries are denoted with curly Bracket {}. The key have to be immutable and unique\n"
   ]
  },
  {
   "cell_type": "code",
   "execution_count": 19,
   "id": "e89b6c18",
   "metadata": {},
   "outputs": [
    {
     "data": {
      "text/plain": [
       "dict_values([1982, 1980, 1992])"
      ]
     },
     "execution_count": 19,
     "metadata": {},
     "output_type": "execute_result"
    }
   ],
   "source": [
    "# creating dictionaries\n",
    "dict = {\"Thriller\":1982, \"Back in Back\": 1980,\"The Bodyguard\":1992}\n",
    "dict[\"Thriller\"]\n",
    "\"starboy\" in dict\n",
    "dict.keys()\n",
    "dict.values()"
   ]
  }
 ],
 "metadata": {
  "kernelspec": {
   "display_name": ".venv",
   "language": "python",
   "name": "python3"
  },
  "language_info": {
   "codemirror_mode": {
    "name": "ipython",
    "version": 3
   },
   "file_extension": ".py",
   "mimetype": "text/x-python",
   "name": "python",
   "nbconvert_exporter": "python",
   "pygments_lexer": "ipython3",
   "version": "3.13.1"
  }
 },
 "nbformat": 4,
 "nbformat_minor": 5
}

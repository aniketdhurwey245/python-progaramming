{
 "cells": [
  {
   "cell_type": "markdown",
   "id": "aa4547de",
   "metadata": {},
   "source": [
    "### Eploring pandas library"
   ]
  },
  {
   "cell_type": "code",
   "execution_count": 4,
   "id": "dbac9150",
   "metadata": {},
   "outputs": [
    {
     "data": {
      "text/html": [
       "<div>\n",
       "<style scoped>\n",
       "    .dataframe tbody tr th:only-of-type {\n",
       "        vertical-align: middle;\n",
       "    }\n",
       "\n",
       "    .dataframe tbody tr th {\n",
       "        vertical-align: top;\n",
       "    }\n",
       "\n",
       "    .dataframe thead th {\n",
       "        text-align: right;\n",
       "    }\n",
       "</style>\n",
       "<table border=\"1\" class=\"dataframe\">\n",
       "  <thead>\n",
       "    <tr style=\"text-align: right;\">\n",
       "      <th></th>\n",
       "      <th>Order ID</th>\n",
       "      <th>Order Date</th>\n",
       "      <th>CustomerName</th>\n",
       "      <th>State</th>\n",
       "      <th>City</th>\n",
       "    </tr>\n",
       "  </thead>\n",
       "  <tbody>\n",
       "    <tr>\n",
       "      <th>0</th>\n",
       "      <td>B-26055</td>\n",
       "      <td>10-03-2018</td>\n",
       "      <td>Harivansh</td>\n",
       "      <td>Uttar Pradesh</td>\n",
       "      <td>Mathura</td>\n",
       "    </tr>\n",
       "    <tr>\n",
       "      <th>1</th>\n",
       "      <td>B-25993</td>\n",
       "      <td>03-02-2018</td>\n",
       "      <td>Madhav</td>\n",
       "      <td>Delhi</td>\n",
       "      <td>Delhi</td>\n",
       "    </tr>\n",
       "    <tr>\n",
       "      <th>2</th>\n",
       "      <td>B-25973</td>\n",
       "      <td>24-01-2018</td>\n",
       "      <td>Madan Mohan</td>\n",
       "      <td>Uttar Pradesh</td>\n",
       "      <td>Mathura</td>\n",
       "    </tr>\n",
       "    <tr>\n",
       "      <th>3</th>\n",
       "      <td>B-25923</td>\n",
       "      <td>27-12-2018</td>\n",
       "      <td>Gopal</td>\n",
       "      <td>Maharashtra</td>\n",
       "      <td>Mumbai</td>\n",
       "    </tr>\n",
       "    <tr>\n",
       "      <th>4</th>\n",
       "      <td>B-25757</td>\n",
       "      <td>21-08-2018</td>\n",
       "      <td>Vishakha</td>\n",
       "      <td>Madhya Pradesh</td>\n",
       "      <td>Indore</td>\n",
       "    </tr>\n",
       "  </tbody>\n",
       "</table>\n",
       "</div>"
      ],
      "text/plain": [
       "  Order ID  Order Date CustomerName           State     City\n",
       "0  B-26055  10-03-2018    Harivansh   Uttar Pradesh  Mathura\n",
       "1  B-25993  03-02-2018       Madhav           Delhi    Delhi\n",
       "2  B-25973  24-01-2018  Madan Mohan   Uttar Pradesh  Mathura\n",
       "3  B-25923  27-12-2018        Gopal     Maharashtra   Mumbai\n",
       "4  B-25757  21-08-2018     Vishakha  Madhya Pradesh   Indore"
      ]
     },
     "execution_count": 4,
     "metadata": {},
     "output_type": "execute_result"
    }
   ],
   "source": [
    "import pandas as pd\n",
    "csv_path = r\"C:\\Users\\ANIKET\\OneDrive\\Documents\\Orders.csv\"\n",
    "df = pd.read_csv(csv_path)\n",
    "df.head()# it show first 5 row\n"
   ]
  },
  {
   "cell_type": "markdown",
   "id": "7648757f",
   "metadata": {},
   "source": [
    "### creating a Dataframe"
   ]
  },
  {
   "cell_type": "code",
   "execution_count": 7,
   "id": "3f1519c6",
   "metadata": {},
   "outputs": [
    {
     "name": "stdout",
     "output_type": "stream",
     "text": [
      "      Name  Age      City\n",
      "0    Alice   25  New York\n",
      "1      Bob   30     Paris\n",
      "2  Charlie   35    London\n"
     ]
    }
   ],
   "source": [
    "\n",
    "data = {\n",
    "    \"Name\": [\"Alice\", \"Bob\", \"Charlie\"],\n",
    "    \"Age\": [25, 30, 35],\n",
    "    \"City\": [\"New York\", \"Paris\", \"London\"]\n",
    "}\n",
    "\n",
    "df = pd.DataFrame(data)\n",
    "\n",
    "print(df)"
   ]
  },
  {
   "cell_type": "code",
   "execution_count": null,
   "id": "3b83f063",
   "metadata": {},
   "outputs": [
    {
     "name": "stdout",
     "output_type": "stream",
     "text": [
      "Index(['Name', 'Age', 'City'], dtype='object')\n",
      "      Name\n",
      "0    Alice\n",
      "1      Bob\n",
      "2  Charlie\n"
     ]
    }
   ],
   "source": [
    "# creating new dataframe\n",
    "print(df.columns)\n",
    "x=df[[\"Name\"]]\n",
    "print(x)\n"
   ]
  },
  {
   "cell_type": "code",
   "execution_count": null,
   "id": "51e2cfbf",
   "metadata": {},
   "outputs": [
    {
     "name": "stdout",
     "output_type": "stream",
     "text": [
      "    Order ID  Order Date CustomerName             State     City\n",
      "0    B-26055  10-03-2018    Harivansh     Uttar Pradesh  Mathura\n",
      "1    B-25993  03-02-2018       Madhav             Delhi    Delhi\n",
      "2    B-25973  24-01-2018  Madan Mohan     Uttar Pradesh  Mathura\n",
      "3    B-25923  27-12-2018        Gopal       Maharashtra   Mumbai\n",
      "4    B-25757  21-08-2018     Vishakha    Madhya Pradesh   Indore\n",
      "..       ...         ...          ...               ...      ...\n",
      "495  B-25742  03-08-2018       Ashwin               Goa      Goa\n",
      "496  B-26088  26-03-2018       Bhavna            Sikkim  Gangtok\n",
      "497  B-25707  01-07-2018      Shivani       Maharashtra   Mumbai\n",
      "498  B-25758  22-08-2018      Shubham  Himachal Pradesh    Simla\n",
      "499  B-26095  28-03-2018      Monisha         Rajasthan   Jaipur\n",
      "\n",
      "[500 rows x 5 columns]\n"
     ]
    },
    {
     "data": {
      "text/plain": [
       "'Uttar Pradesh'"
      ]
     },
     "execution_count": 27,
     "metadata": {},
     "output_type": "execute_result"
    }
   ],
   "source": [
    "#One way to access unique elements is the iximport pandas as pd\n",
    "csv_path = r\"C:\\Users\\ANIKET\\OneDrive\\Documents\\Orders.csv\"\n",
    "df = pd.read_csv(csv_path)\n",
    "print(df)\n",
    "df.iloc[0,2]# .iloc is for index accessing and .loc for index and name of column\n",
    "df.loc[0,'State']"
   ]
  },
  {
   "cell_type": "markdown",
   "id": "0f622736",
   "metadata": {},
   "source": [
    "### Working with and Saving Data with Pandas"
   ]
  },
  {
   "cell_type": "code",
   "execution_count": 28,
   "id": "a763f1a8",
   "metadata": {},
   "outputs": [
    {
     "name": "stdout",
     "output_type": "stream",
     "text": [
      "    Order ID  Order Date CustomerName             State     City\n",
      "0    B-26055  10-03-2018    Harivansh     Uttar Pradesh  Mathura\n",
      "1    B-25993  03-02-2018       Madhav             Delhi    Delhi\n",
      "2    B-25973  24-01-2018  Madan Mohan     Uttar Pradesh  Mathura\n",
      "3    B-25923  27-12-2018        Gopal       Maharashtra   Mumbai\n",
      "4    B-25757  21-08-2018     Vishakha    Madhya Pradesh   Indore\n",
      "..       ...         ...          ...               ...      ...\n",
      "495  B-25742  03-08-2018       Ashwin               Goa      Goa\n",
      "496  B-26088  26-03-2018       Bhavna            Sikkim  Gangtok\n",
      "497  B-25707  01-07-2018      Shivani       Maharashtra   Mumbai\n",
      "498  B-25758  22-08-2018      Shubham  Himachal Pradesh    Simla\n",
      "499  B-26095  28-03-2018      Monisha         Rajasthan   Jaipur\n",
      "\n",
      "[500 rows x 5 columns]\n"
     ]
    }
   ],
   "source": [
    "csv_path = r\"C:\\Users\\ANIKET\\OneDrive\\Documents\\Orders.csv\"\n",
    "df = pd.read_csv(csv_path)\n",
    "print(df)"
   ]
  },
  {
   "cell_type": "code",
   "execution_count": null,
   "id": "db3f33f9",
   "metadata": {},
   "outputs": [],
   "source": [
    "df['CustomerName'].unique()\n",
    "\n",
    "# save as Csv\n",
    "df.to_csv('new_songs.csv')"
   ]
  }
 ],
 "metadata": {
  "kernelspec": {
   "display_name": ".venv",
   "language": "python",
   "name": "python3"
  },
  "language_info": {
   "codemirror_mode": {
    "name": "ipython",
    "version": 3
   },
   "file_extension": ".py",
   "mimetype": "text/x-python",
   "name": "python",
   "nbconvert_exporter": "python",
   "pygments_lexer": "ipython3",
   "version": "3.13.1"
  }
 },
 "nbformat": 4,
 "nbformat_minor": 5
}

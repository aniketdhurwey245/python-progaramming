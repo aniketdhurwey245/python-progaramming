{
 "cells": [
  {
   "cell_type": "markdown",
   "id": "25f0a45f",
   "metadata": {},
   "source": [
    "### Reading Files with Open\n"
   ]
  },
  {
   "cell_type": "code",
   "execution_count": 11,
   "id": "73f4fe85",
   "metadata": {},
   "outputs": [
    {
     "name": "stdout",
     "output_type": "stream",
     "text": [
      "Hello coder this aniket dhurwey\n",
      "\n",
      "python.txt\n",
      "r\n"
     ]
    }
   ],
   "source": [
    "file = open(\"python.txt\",\"r\")\n",
    "print(file.read() )\n",
    "name = file.name\n",
    "print(name)\n",
    "mode = file.mode\n",
    "print(mode)\n",
    "file.close()\n",
    "# file.read()\n",
    "# after closing the file we cannot access the file\n",
    "\n"
   ]
  },
  {
   "cell_type": "code",
   "execution_count": 13,
   "id": "2ff850b7",
   "metadata": {},
   "outputs": [
    {
     "name": "stdout",
     "output_type": "stream",
     "text": [
      "Hello coder this aniket dhurwey \n",
      "this is line 2\n",
      "this is line 3\n",
      "this is line 4 \n",
      "\n",
      "True\n",
      "Hello coder this aniket dhurwey \n",
      "this is line 2\n",
      "this is line 3\n",
      "this is line 4 \n",
      "\n"
     ]
    }
   ],
   "source": [
    "# file opening with statement because it close the file automatically\n",
    "\n",
    "with open(\"python.txt\",\"r\") as file:\n",
    "    file_stuff = file.read()\n",
    "    print(file_stuff)\n",
    "print(file.closed)\n",
    "print(file_stuff)\n"
   ]
  },
  {
   "cell_type": "code",
   "execution_count": 23,
   "id": "1b7ae562",
   "metadata": {},
   "outputs": [
    {
     "name": "stdout",
     "output_type": "stream",
     "text": [
      "Hello coder this\n",
      " anik\n",
      "et dhurwey \n",
      "\n"
     ]
    }
   ],
   "source": [
    "file = open(\"python.txt\",\"r\")\n",
    "file_stuff = file.readline(16)\n",
    "print(file_stuff)\n",
    "file_stuff = file.readline(5)\n",
    "print(file_stuff)\n",
    "file_stuff = file.readline(16)\n",
    "print(file_stuff)"
   ]
  },
  {
   "cell_type": "markdown",
   "id": "ec915ef1",
   "metadata": {},
   "source": [
    "### Writting file with open\n"
   ]
  },
  {
   "cell_type": "code",
   "execution_count": 25,
   "id": "605f804f",
   "metadata": {},
   "outputs": [],
   "source": [
    "#write mode clear previous data on the file and the write anyrhing \n",
    "with open(\"python.txt\",\"w\") as file:\n",
    "    file.write(\"Hi Everyone\")"
   ]
  },
  {
   "cell_type": "markdown",
   "id": "3b0616fc",
   "metadata": {},
   "source": [
    "### Appending Files"
   ]
  },
  {
   "cell_type": "code",
   "execution_count": 28,
   "id": "40eda12f",
   "metadata": {},
   "outputs": [
    {
     "name": "stdout",
     "output_type": "stream",
     "text": [
      "Hi EveryoneThis is line C\n",
      "This is line D\n",
      "This is line E\n",
      "This is line C\n",
      "This is line D\n",
      "This is line E\n",
      "This is line C\n",
      "This is line D\n",
      "This is line E\n",
      "\n"
     ]
    }
   ],
   "source": [
    "with open('python.txt', 'a') as testwritefile:\n",
    "    testwritefile.write(\"This is line C\\n\")\n",
    "    testwritefile.write(\"This is line D\\n\")\n",
    "    testwritefile.write(\"This is line E\\n\")\n",
    "    \n",
    "with open('python.txt','r') as testwritefile:\n",
    "    print(testwritefile.read())"
   ]
  },
  {
   "cell_type": "markdown",
   "id": "80f56e63",
   "metadata": {},
   "source": [
    "#### some another mode\n",
    " r+ : Reading and writing. Cannot truncate the file.\n",
    "w+ : Writing and reading. Truncates the file.\n",
    "a+ : Appending and Reading. Creates a new file, if none exists.\n",
    ".tell() - returns the current position in bytes\n",
    ".seek(offset,from) - changes the position by 'offset' bytes with respect to 'from'. From can take the value of 0,1,2 corresponding to beginning, relative to current position and end "
   ]
  },
  {
   "cell_type": "markdown",
   "id": "bd5eeb39",
   "metadata": {},
   "source": [
    "## Copy File"
   ]
  },
  {
   "cell_type": "code",
   "execution_count": 32,
   "id": "8860efdd",
   "metadata": {},
   "outputs": [],
   "source": [
    "with open('python.txt','r') as readfile:\n",
    "    with open('python.txt','w') as writefile:\n",
    "          for line in readfile:\n",
    "                writefile.write(line)"
   ]
  },
  {
   "cell_type": "code",
   "execution_count": 33,
   "id": "fd97e765",
   "metadata": {},
   "outputs": [
    {
     "name": "stdout",
     "output_type": "stream",
     "text": [
      "\n"
     ]
    }
   ],
   "source": [
    "with open('python.txt','r') as testwritefile:\n",
    "    print(testwritefile.read())"
   ]
  }
 ],
 "metadata": {
  "kernelspec": {
   "display_name": ".venv",
   "language": "python",
   "name": "python3"
  },
  "language_info": {
   "codemirror_mode": {
    "name": "ipython",
    "version": 3
   },
   "file_extension": ".py",
   "mimetype": "text/x-python",
   "name": "python",
   "nbconvert_exporter": "python",
   "pygments_lexer": "ipython3",
   "version": "3.13.1"
  }
 },
 "nbformat": 4,
 "nbformat_minor": 5
}

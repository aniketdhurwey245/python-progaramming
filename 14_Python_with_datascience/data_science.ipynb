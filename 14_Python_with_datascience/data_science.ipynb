{
 "cells": [
  {
   "cell_type": "markdown",
   "id": "17047a15",
   "metadata": {},
   "source": [
    "### Welcome to python with data science"
   ]
  },
  {
   "cell_type": "code",
   "execution_count": 2,
   "id": "e56b548c",
   "metadata": {},
   "outputs": [
    {
     "name": "stdout",
     "output_type": "stream",
     "text": [
      "Hello world\n",
      "Hello\n",
      "World\n"
     ]
    }
   ],
   "source": [
    "print(\"Hello world\")\n",
    "print(\"Hello\\nWorld\")"
   ]
  },
  {
   "cell_type": "markdown",
   "id": "f6990d8b",
   "metadata": {},
   "source": [
    "## Data Types"
   ]
  },
  {
   "cell_type": "code",
   "execution_count": null,
   "id": "ae58b74a",
   "metadata": {},
   "outputs": [],
   "source": []
  },
  {
   "cell_type": "code",
   "execution_count": null,
   "id": "b37253b5",
   "metadata": {},
   "outputs": [
    {
     "name": "stdout",
     "output_type": "stream",
     "text": [
      "<class 'int'>\n",
      "<class 'float'>\n",
      "<class 'str'>\n",
      "10.0\n",
      "2\n"
     ]
    }
   ],
   "source": [
    "a=10\n",
    "b=2.8\n",
    "s=\"hellop python lover\"\n",
    "print(type(a))\n",
    "print(type(b))\n",
    "print(type(s))\n",
    "\n",
    "# Type Casting\n",
    "print(float(a))\n",
    "print(type(a))\n",
    "print(int(b))\n",
    "\n",
    "\n"
   ]
  },
  {
   "cell_type": "markdown",
   "id": "aac74ae4",
   "metadata": {},
   "source": [
    "## Expression And Variable"
   ]
  },
  {
   "cell_type": "code",
   "execution_count": null,
   "id": "56d0f2b2",
   "metadata": {},
   "outputs": [],
   "source": [
    "my_variable = 1\n",
    "\n",
    "# expression\n",
    "x= 43+60+16+41"
   ]
  },
  {
   "cell_type": "markdown",
   "id": "cc861b0b",
   "metadata": {},
   "source": [
    "## String Operations"
   ]
  },
  {
   "cell_type": "code",
   "execution_count": 24,
   "id": "0b3fb235",
   "metadata": {},
   "outputs": [
    {
     "name": "stdout",
     "output_type": "stream",
     "text": [
      "ABCD\n",
      "Good\n"
     ]
    },
    {
     "data": {
      "text/plain": [
       "11"
      ]
     },
     "execution_count": 24,
     "metadata": {},
     "output_type": "execute_result"
    }
   ],
   "source": [
    "# string Slicing\n",
    "\n",
    "Letters=\"ABCDEFGHIJK\"\n",
    "print(Letters[0:4])\n",
    "\n",
    "# Stride step size\n",
    "Good=\"GsoAo+d\"\n",
    "step=Good[::2]\n",
    "print(step)\n",
    "len(Letters)"
   ]
  },
  {
   "cell_type": "code",
   "execution_count": 20,
   "id": "0207bde3",
   "metadata": {},
   "outputs": [
    {
     "name": "stdout",
     "output_type": "stream",
     "text": [
      "UPPERCASE\n"
     ]
    },
    {
     "data": {
      "text/plain": [
       "'uppercase'"
      ]
     },
     "execution_count": 20,
     "metadata": {},
     "output_type": "execute_result"
    }
   ],
   "source": [
    "# converting uppercase & lowerCase\n",
    "a=\"uppercase\".upper()\n",
    "print(a)\n",
    "a.lower()"
   ]
  },
  {
   "cell_type": "code",
   "execution_count": null,
   "id": "256f7b72",
   "metadata": {},
   "outputs": [
    {
     "name": "stdout",
     "output_type": "stream",
     "text": [
      "michkel jactionis the best\n"
     ]
    }
   ],
   "source": [
    "# concating string\n",
    "name =\"michkel jackson\" \n",
    "statement = name + \"is the best\"\n",
    "print(statement)"
   ]
  },
  {
   "cell_type": "code",
   "execution_count": null,
   "id": "eb33f7bd",
   "metadata": {},
   "outputs": [
    {
     "name": "stdout",
     "output_type": "stream",
     "text": [
      "michkel jacksonmichkel jacksonmichkel jackson\n",
      "michkel jacksonmichkel jacksonmichkel jacksonis the best\n"
     ]
    }
   ],
   "source": [
    "# replicating string\n",
    "name = 3*\"michkel jackson\"\n",
    "print(name)\n",
    "\n",
    "# you cannot change the string but we create new string\n",
    "#name[0] = \"j\" string is immutable\n",
    "name = name + \"is the best\"\n",
    "print(name)"
   ]
  },
  {
   "cell_type": "markdown",
   "id": "06192f78",
   "metadata": {},
   "source": [
    "### string escape sequence\n",
    "\\ are meant to proceed escape sequences\n",
    "escape sequence are strings that are difficult to input \n"
   ]
  },
  {
   "cell_type": "code",
   "execution_count": null,
   "id": "3959a8f9",
   "metadata": {},
   "outputs": [
    {
     "name": "stdout",
     "output_type": "stream",
     "text": [
      "Mickel Jackson \n",
      " is the best\n",
      "Mickel Jackson \t is the best\n",
      "Mickel Jackson \\ is the best\n",
      "Mickel Jackson \\ is the best\n"
     ]
    }
   ],
   "source": [
    "print(\"Mickel Jackson \\n is the best\")\n",
    "print(\"Mickel Jackson \\t is the best\") # it give tab\n",
    "print(\"Mickel Jackson \\\\ is the best\") # we can use r also \n",
    "print(r\"Mickel Jackson \\ is the best\")"
   ]
  },
  {
   "cell_type": "code",
   "execution_count": 39,
   "id": "e3ded461",
   "metadata": {},
   "outputs": [
    {
     "name": "stdout",
     "output_type": "stream",
     "text": [
      "Janet jackson\n"
     ]
    },
    {
     "data": {
      "text/plain": [
       "8"
      ]
     },
     "execution_count": 39,
     "metadata": {},
     "output_type": "execute_result"
    }
   ],
   "source": [
    "# methods of string\n",
    "A =\"michkel jackson\"\n",
    "B = A.replace(\"michkel\", \"Janet\")\n",
    "print(B)\n",
    "A.find(\"j\")"
   ]
  },
  {
   "cell_type": "markdown",
   "id": "7407bf54",
   "metadata": {},
   "source": [
    "## Lists And Tuples\n",
    "Tuple are an ordered sequence\n",
    "Tuples are immutable\n"
   ]
  },
  {
   "cell_type": "code",
   "execution_count": null,
   "id": "a5da103a",
   "metadata": {},
   "outputs": [
    {
     "name": "stdout",
     "output_type": "stream",
     "text": [
      "<class 'tuple'>\n"
     ]
    },
    {
     "data": {
      "text/plain": [
       "80"
      ]
     },
     "execution_count": 43,
     "metadata": {},
     "output_type": "execute_result"
    }
   ],
   "source": [
    "# creating tuple\n",
    "rating = (10,20,30,40,60,70,50,80)\n",
    "tuple1 = ('disco',10,1.5)\n",
    "print(type(tuple1))\n",
    "\n",
    "# accessing the tuple\n",
    "rating[0]\n",
    "rating[-1]\n",
    " "
   ]
  },
  {
   "cell_type": "code",
   "execution_count": 45,
   "id": "8355afa3",
   "metadata": {},
   "outputs": [
    {
     "name": "stdout",
     "output_type": "stream",
     "text": [
      "('disco', 10, 1.5, 'hard rock', 10)\n"
     ]
    }
   ],
   "source": [
    "tuple1 = ('disco',10,1.5)\n",
    "tuple2= tuple1 + (\"hard rock\", 10)\n",
    "print(tuple2)"
   ]
  },
  {
   "cell_type": "code",
   "execution_count": 48,
   "id": "771ec7ce",
   "metadata": {},
   "outputs": [
    {
     "name": "stdout",
     "output_type": "stream",
     "text": [
      "(10, 20, 30, 40, 50)\n"
     ]
    },
    {
     "data": {
      "text/plain": [
       "8"
      ]
     },
     "execution_count": 48,
     "metadata": {},
     "output_type": "execute_result"
    }
   ],
   "source": [
    "# slicing tuple\n",
    "print(rating[0:5])\n",
    "len(rating)"
   ]
  },
  {
   "cell_type": "code",
   "execution_count": 49,
   "id": "3a8bbd3b",
   "metadata": {},
   "outputs": [
    {
     "ename": "TypeError",
     "evalue": "'tuple' object does not support item assignment",
     "output_type": "error",
     "traceback": [
      "\u001b[31m---------------------------------------------------------------------------\u001b[39m",
      "\u001b[31mTypeError\u001b[39m                                 Traceback (most recent call last)",
      "\u001b[36mCell\u001b[39m\u001b[36m \u001b[39m\u001b[32mIn[49]\u001b[39m\u001b[32m, line 2\u001b[39m\n\u001b[32m      1\u001b[39m \u001b[38;5;66;03m# tuple are immutable\u001b[39;00m\n\u001b[32m----> \u001b[39m\u001b[32m2\u001b[39m \u001b[43mrating\u001b[49m\u001b[43m[\u001b[49m\u001b[32;43m2\u001b[39;49m\u001b[43m]\u001b[49m = \u001b[32m45\u001b[39m\n\u001b[32m      3\u001b[39m \u001b[38;5;28mprint\u001b[39m(rating)\n",
      "\u001b[31mTypeError\u001b[39m: 'tuple' object does not support item assignment"
     ]
    }
   ],
   "source": [
    "# tuple are immutable\n",
    "rating[2] = 45\n",
    "print(rating)"
   ]
  },
  {
   "cell_type": "code",
   "execution_count": 54,
   "id": "df3457dc",
   "metadata": {},
   "outputs": [
    {
     "name": "stdout",
     "output_type": "stream",
     "text": [
      "[10, 20, 30, 40, 50, 60, 70, 80]\n"
     ]
    }
   ],
   "source": [
    "# if we want to manipulate a tuple we create new tuple by applying sorted method\n",
    "ratingSorted = sorted(rating)\n",
    "print(ratingSorted)"
   ]
  },
  {
   "cell_type": "code",
   "execution_count": 55,
   "id": "ea2cb1a0",
   "metadata": {},
   "outputs": [
    {
     "data": {
      "text/plain": [
       "1"
      ]
     },
     "execution_count": 55,
     "metadata": {},
     "output_type": "execute_result"
    }
   ],
   "source": [
    "# Nesting of tuple\n",
    "NT = (1,2,(\"pop\", \"rock\"),(3,4),(\"disco\",(1,2)))\n",
    "NT[4][1][0]"
   ]
  },
  {
   "cell_type": "markdown",
   "id": "85fd9587",
   "metadata": {},
   "source": [
    "### Lists\n",
    "Lists are also Ordered Sequences.\n",
    "A list is represented with square brackets.\n",
    "List are mutable\n"
   ]
  },
  {
   "cell_type": "code",
   "execution_count": 59,
   "id": "267b2787",
   "metadata": {},
   "outputs": [
    {
     "name": "stdout",
     "output_type": "stream",
     "text": [
      "['Michael Jackson', 10.1, 1982, [1, 2], ('A', 1)]\n"
     ]
    },
    {
     "data": {
      "text/plain": [
       "5"
      ]
     },
     "execution_count": 59,
     "metadata": {},
     "output_type": "execute_result"
    }
   ],
   "source": [
    "list = [\"Michael Jackson\", 10.1,1982,[1,2],('A', 1)]\n",
    "print(list)\n",
    "list[2]\n",
    "list[-1]\n",
    "len(list)"
   ]
  },
  {
   "cell_type": "code",
   "execution_count": 61,
   "id": "a330640e",
   "metadata": {},
   "outputs": [
    {
     "data": {
      "text/plain": [
       "[1982, [1, 2], ('A', 1)]"
      ]
     },
     "execution_count": 61,
     "metadata": {},
     "output_type": "execute_result"
    }
   ],
   "source": [
    "# Slicing list\n",
    "list[0:5:]\n",
    "list[2:5]"
   ]
  },
  {
   "cell_type": "code",
   "execution_count": null,
   "id": "1a9f2960",
   "metadata": {},
   "outputs": [
    {
     "name": "stdout",
     "output_type": "stream",
     "text": [
      "['Michael Jackson', 10.1, 1982, [1, 2], ('A', 1), 'pop', 10]\n",
      "['Michael Jackson', 10.1, 1982, [1, 2], ('A', 1), 'pop', 10, [1, 2, 5]]\n"
     ]
    }
   ],
   "source": [
    "list = [\"Michael Jackson\", 10.1,1982,[1,2],('A', 1)]\n",
    "list.extend(['pop', 10])\n",
    "print(list)\n",
    "list.append([1,2,5])# append operation give directly add the list as element\n",
    "print(list)"
   ]
  },
  {
   "cell_type": "code",
   "execution_count": null,
   "id": "12534bc3",
   "metadata": {},
   "outputs": [
    {
     "name": "stdout",
     "output_type": "stream",
     "text": [
      "['hard rock', 10.1, 1982, [1, 2], ('A', 1), 'pop', 10, [1, 2, 5]]\n"
     ]
    }
   ],
   "source": [
    "list[0] = \"hard rock\"\n",
    "print(list)\n",
    "\n"
   ]
  },
  {
   "cell_type": "code",
   "execution_count": 99,
   "id": "906846e7",
   "metadata": {},
   "outputs": [
    {
     "name": "stdout",
     "output_type": "stream",
     "text": [
      "['hard rock', 10, 1.2]\n",
      "[10, 1.2]\n"
     ]
    }
   ],
   "source": [
    "A = [\"hard rock\", 10,1.2]\n",
    "print(A)\n",
    "del A[0]\n",
    "print(A)"
   ]
  },
  {
   "cell_type": "code",
   "execution_count": 101,
   "id": "4b89b9b1",
   "metadata": {},
   "outputs": [
    {
     "data": {
      "text/plain": [
       "['A', 'B', 'C', 'D']"
      ]
     },
     "execution_count": 101,
     "metadata": {},
     "output_type": "execute_result"
    }
   ],
   "source": [
    "# split\n",
    "split = \"Hard rock\"\n",
    "split.split()\n",
    "\"A,B,C,D\".split(\",\")"
   ]
  },
  {
   "cell_type": "code",
   "execution_count": 107,
   "id": "e73fd8ef",
   "metadata": {},
   "outputs": [
    {
     "name": "stdout",
     "output_type": "stream",
     "text": [
      "['Banana', 3]\n",
      "['Banana', 3]\n"
     ]
    }
   ],
   "source": [
    "# Lists: Aliasing\n",
    "\n",
    "A = [\"hard rock\", 3]\n",
    "B = A\n",
    "\n",
    "B[0] = \"Banana\"\n",
    "print(B)\n",
    "print(A)"
   ]
  },
  {
   "cell_type": "code",
   "execution_count": 109,
   "id": "668c120b",
   "metadata": {},
   "outputs": [
    {
     "name": "stdout",
     "output_type": "stream",
     "text": [
      "['Soft rock', 10, 1.2]\n",
      "['Banana', 10, 1.2]\n",
      "Help on list object:\n",
      "\n",
      "class list(object)\n",
      " |  list(iterable=(), /)\n",
      " |\n",
      " |  Built-in mutable sequence.\n",
      " |\n",
      " |  If no argument is given, the constructor creates a new empty list.\n",
      " |  The argument must be an iterable if specified.\n",
      " |\n",
      " |  Methods defined here:\n",
      " |\n",
      " |  __add__(self, value, /)\n",
      " |      Return self+value.\n",
      " |\n",
      " |  __contains__(self, key, /)\n",
      " |      Return bool(key in self).\n",
      " |\n",
      " |  __delitem__(self, key, /)\n",
      " |      Delete self[key].\n",
      " |\n",
      " |  __eq__(self, value, /)\n",
      " |      Return self==value.\n",
      " |\n",
      " |  __ge__(self, value, /)\n",
      " |      Return self>=value.\n",
      " |\n",
      " |  __getattribute__(self, name, /)\n",
      " |      Return getattr(self, name).\n",
      " |\n",
      " |  __getitem__(self, index, /)\n",
      " |      Return self[index].\n",
      " |\n",
      " |  __gt__(self, value, /)\n",
      " |      Return self>value.\n",
      " |\n",
      " |  __iadd__(self, value, /)\n",
      " |      Implement self+=value.\n",
      " |\n",
      " |  __imul__(self, value, /)\n",
      " |      Implement self*=value.\n",
      " |\n",
      " |  __init__(self, /, *args, **kwargs)\n",
      " |      Initialize self.  See help(type(self)) for accurate signature.\n",
      " |\n",
      " |  __iter__(self, /)\n",
      " |      Implement iter(self).\n",
      " |\n",
      " |  __le__(self, value, /)\n",
      " |      Return self<=value.\n",
      " |\n",
      " |  __len__(self, /)\n",
      " |      Return len(self).\n",
      " |\n",
      " |  __lt__(self, value, /)\n",
      " |      Return self<value.\n",
      " |\n",
      " |  __mul__(self, value, /)\n",
      " |      Return self*value.\n",
      " |\n",
      " |  __ne__(self, value, /)\n",
      " |      Return self!=value.\n",
      " |\n",
      " |  __repr__(self, /)\n",
      " |      Return repr(self).\n",
      " |\n",
      " |  __reversed__(self, /)\n",
      " |      Return a reverse iterator over the list.\n",
      " |\n",
      " |  __rmul__(self, value, /)\n",
      " |      Return value*self.\n",
      " |\n",
      " |  __setitem__(self, key, value, /)\n",
      " |      Set self[key] to value.\n",
      " |\n",
      " |  __sizeof__(self, /)\n",
      " |      Return the size of the list in memory, in bytes.\n",
      " |\n",
      " |  append(self, object, /)\n",
      " |      Append object to the end of the list.\n",
      " |\n",
      " |  clear(self, /)\n",
      " |      Remove all items from list.\n",
      " |\n",
      " |  copy(self, /)\n",
      " |      Return a shallow copy of the list.\n",
      " |\n",
      " |  count(self, value, /)\n",
      " |      Return number of occurrences of value.\n",
      " |\n",
      " |  extend(self, iterable, /)\n",
      " |      Extend list by appending elements from the iterable.\n",
      " |\n",
      " |  index(self, value, start=0, stop=9223372036854775807, /)\n",
      " |      Return first index of value.\n",
      " |\n",
      " |      Raises ValueError if the value is not present.\n",
      " |\n",
      " |  insert(self, index, object, /)\n",
      " |      Insert object before index.\n",
      " |\n",
      " |  pop(self, index=-1, /)\n",
      " |      Remove and return item at index (default last).\n",
      " |\n",
      " |      Raises IndexError if list is empty or index is out of range.\n",
      " |\n",
      " |  remove(self, value, /)\n",
      " |      Remove first occurrence of value.\n",
      " |\n",
      " |      Raises ValueError if the value is not present.\n",
      " |\n",
      " |  reverse(self, /)\n",
      " |      Reverse *IN PLACE*.\n",
      " |\n",
      " |  sort(self, /, *, key=None, reverse=False)\n",
      " |      Sort the list in ascending order and return None.\n",
      " |\n",
      " |      The sort is in-place (i.e. the list itself is modified) and stable (i.e. the\n",
      " |      order of two equal elements is maintained).\n",
      " |\n",
      " |      If a key function is given, apply it once to each list item and sort them,\n",
      " |      ascending or descending, according to their function values.\n",
      " |\n",
      " |      The reverse flag can be set to sort in descending order.\n",
      " |\n",
      " |  ----------------------------------------------------------------------\n",
      " |  Class methods defined here:\n",
      " |\n",
      " |  __class_getitem__(object, /)\n",
      " |      See PEP 585\n",
      " |\n",
      " |  ----------------------------------------------------------------------\n",
      " |  Static methods defined here:\n",
      " |\n",
      " |  __new__(*args, **kwargs)\n",
      " |      Create and return a new object.  See help(type) for accurate signature.\n",
      " |\n",
      " |  ----------------------------------------------------------------------\n",
      " |  Data and other attributes defined here:\n",
      " |\n",
      " |  __hash__ = None\n",
      "\n"
     ]
    }
   ],
   "source": [
    "# list Clone\n",
    "Clone = [\"hard rock\", 10, 1.2]\n",
    "b = Clone[:]\n",
    "Clone[0] = \"Soft rock\"\n",
    "print(Clone)\n",
    "b[0] = \"Banana\"\n",
    "print(b)\n",
    "\n",
    "help(Clone)"
   ]
  },
  {
   "cell_type": "markdown",
   "id": "f66372f4",
   "metadata": {},
   "source": [
    "### Sets\n",
    "set "
   ]
  }
 ],
 "metadata": {
  "kernelspec": {
   "display_name": ".venv",
   "language": "python",
   "name": "python3"
  },
  "language_info": {
   "codemirror_mode": {
    "name": "ipython",
    "version": 3
   },
   "file_extension": ".py",
   "mimetype": "text/x-python",
   "name": "python",
   "nbconvert_exporter": "python",
   "pygments_lexer": "ipython3",
   "version": "3.13.1"
  }
 },
 "nbformat": 4,
 "nbformat_minor": 5
}

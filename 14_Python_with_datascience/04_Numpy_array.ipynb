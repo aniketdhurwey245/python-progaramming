{
 "cells": [
  {
   "cell_type": "markdown",
   "id": "8033d427",
   "metadata": {},
   "source": [
    "### Numpy 1D Arrays"
   ]
  },
  {
   "cell_type": "code",
   "execution_count": 3,
   "id": "1c160eaf",
   "metadata": {},
   "outputs": [
    {
     "name": "stdout",
     "output_type": "stream",
     "text": [
      "[ 1  9 10 25]\n"
     ]
    },
    {
     "data": {
      "text/plain": [
       "dtype('int64')"
      ]
     },
     "execution_count": 3,
     "metadata": {},
     "output_type": "execute_result"
    }
   ],
   "source": [
    "import numpy as np\n",
    "# creating array\n",
    "array_1d = np.array([1,9,10,25])\n",
    "print(array_1d)\n",
    "# accessing array element by indexing\n",
    "array_1d[1]\n",
    "#finding type of array\n",
    "type(array_1d)\n",
    "# finding data type of array\n",
    "array_1d.dtype\n",
    "\n"
   ]
  },
  {
   "cell_type": "code",
   "execution_count": 6,
   "id": "498a01a4",
   "metadata": {},
   "outputs": [
    {
     "data": {
      "text/plain": [
       "4"
      ]
     },
     "execution_count": 6,
     "metadata": {},
     "output_type": "execute_result"
    }
   ],
   "source": [
    "# to find size of Array\n",
    "array_1d.size"
   ]
  },
  {
   "cell_type": "code",
   "execution_count": 7,
   "id": "82299e0e",
   "metadata": {},
   "outputs": [
    {
     "data": {
      "text/plain": [
       "1"
      ]
     },
     "execution_count": 7,
     "metadata": {},
     "output_type": "execute_result"
    }
   ],
   "source": [
    "# finding dimensions\n",
    "array_1d.ndim"
   ]
  },
  {
   "cell_type": "code",
   "execution_count": 8,
   "id": "bc9e7466",
   "metadata": {},
   "outputs": [
    {
     "data": {
      "text/plain": [
       "(4,)"
      ]
     },
     "execution_count": 8,
     "metadata": {},
     "output_type": "execute_result"
    }
   ],
   "source": [
    "# to know about shape\n",
    "array_1d.shape"
   ]
  },
  {
   "cell_type": "markdown",
   "id": "402bc3ce",
   "metadata": {},
   "source": [
    "### Indexing And Slicing"
   ]
  },
  {
   "cell_type": "code",
   "execution_count": 10,
   "id": "dbcfb22d",
   "metadata": {},
   "outputs": [
    {
     "name": "stdout",
     "output_type": "stream",
     "text": [
      "[100   1   2   3   4  90  60]\n"
     ]
    }
   ],
   "source": [
    "Arr = np.array([20,1,2,3,4,90,60])\n",
    "Arr[0]= 100\n",
    "print(Arr)\n"
   ]
  },
  {
   "cell_type": "code",
   "execution_count": 11,
   "id": "69a966f5",
   "metadata": {},
   "outputs": [
    {
     "name": "stdout",
     "output_type": "stream",
     "text": [
      "[100   1   2   3]\n"
     ]
    }
   ],
   "source": [
    "#Slicing\n",
    "A = Arr[0:4]\n",
    "print(A)"
   ]
  },
  {
   "cell_type": "code",
   "execution_count": 13,
   "id": "2eedcecf",
   "metadata": {},
   "outputs": [
    {
     "name": "stdout",
     "output_type": "stream",
     "text": [
      "[100   1   2 300 400  90  60]\n"
     ]
    }
   ],
   "source": [
    "# Assigning new value\n",
    "Arr[3:5]=300,400\n",
    "print(Arr)"
   ]
  },
  {
   "cell_type": "markdown",
   "id": "e1a12714",
   "metadata": {},
   "source": [
    "### Numpy Basic Operation"
   ]
  },
  {
   "cell_type": "code",
   "execution_count": 18,
   "id": "168a80d6",
   "metadata": {},
   "outputs": [
    {
     "name": "stdout",
     "output_type": "stream",
     "text": [
      "[5 7 9]\n",
      "[np.int64(5)]\n",
      "[np.int64(5), np.int64(7)]\n",
      "[np.int64(5), np.int64(7), np.int64(9)]\n",
      "[np.int64(5), np.int64(7), np.int64(9)]\n"
     ]
    }
   ],
   "source": [
    "# vector Addition\n",
    "A = np.array([1,2,3])\n",
    "B = np.array([4,5,6])\n",
    "vecter_Addtion = A + B\n",
    "print(vecter_Addtion)\n",
    "\n",
    "# we write above code like that\n",
    "z = []\n",
    "for n,m in zip(A,B):\n",
    "    z.append(n+m)\n",
    "    print(z)\n",
    "print(z)\n"
   ]
  },
  {
   "cell_type": "code",
   "execution_count": 19,
   "id": "8aa50216",
   "metadata": {},
   "outputs": [
    {
     "name": "stdout",
     "output_type": "stream",
     "text": [
      "[3 3 3]\n",
      "[np.int64(3)]\n",
      "[np.int64(3), np.int64(3)]\n",
      "[np.int64(3), np.int64(3), np.int64(3)]\n",
      "[np.int64(3), np.int64(3), np.int64(3)]\n"
     ]
    }
   ],
   "source": [
    "# vecter Subtraction\n",
    "A = np.array([1,2,3])\n",
    "B = np.array([4,5,6])\n",
    "vecter_subtraction = B-A\n",
    "print(vecter_subtraction)\n",
    "\n",
    "# we write above code like that\n",
    "z = []\n",
    "for n,m in zip(B,A):\n",
    "    z.append(n-m)\n",
    "    print(z)\n",
    "print(z)\n"
   ]
  },
  {
   "cell_type": "code",
   "execution_count": 3,
   "id": "a74c109f",
   "metadata": {},
   "outputs": [
    {
     "name": "stdout",
     "output_type": "stream",
     "text": [
      "[2 4 6]\n",
      "[np.int64(2)]\n",
      "[np.int64(2), np.int64(4)]\n",
      "[np.int64(2), np.int64(4), np.int64(6)]\n",
      "[np.int64(2), np.int64(4), np.int64(6)]\n"
     ]
    }
   ],
   "source": [
    "# vecter multiplication by Scaler \n",
    "A = np.array([1,2,3])\n",
    "Z = 2*A\n",
    "print(Z)\n",
    "Z=[]\n",
    "for n in A:\n",
    "    Z.append(2*n)\n",
    "    print(Z)\n",
    "print(Z)   "
   ]
  },
  {
   "cell_type": "markdown",
   "id": "23a13fe7",
   "metadata": {},
   "source": [
    "## Product Of Two Numpy Arrays\n",
    "The Hadamard Product"
   ]
  },
  {
   "cell_type": "code",
   "execution_count": 4,
   "id": "9e9203f2",
   "metadata": {},
   "outputs": [
    {
     "name": "stdout",
     "output_type": "stream",
     "text": [
      "[ 4 10 18]\n"
     ]
    }
   ],
   "source": [
    "A = np.array([1,2,3])\n",
    "B = np.array([4,5,6])\n",
    "Z = A*B\n",
    "print(Z)"
   ]
  },
  {
   "cell_type": "code",
   "execution_count": 6,
   "id": "fd3e4fbd",
   "metadata": {},
   "outputs": [
    {
     "name": "stdout",
     "output_type": "stream",
     "text": [
      "32\n"
     ]
    }
   ],
   "source": [
    "# Dot product\n",
    "A = np.array([1,2,3])\n",
    "B = np.array([4,5,6])\n",
    "result = np.dot(A,B)\n",
    "print(result)\n"
   ]
  },
  {
   "cell_type": "code",
   "execution_count": null,
   "id": "67a30813",
   "metadata": {},
   "outputs": [
    {
     "name": "stdout",
     "output_type": "stream",
     "text": [
      "[2 3 4]\n"
     ]
    }
   ],
   "source": [
    "# Adding Constant to an Numpy Array\n",
    "# This property is known as broadcasting.\n",
    "A = np.array([1,2,3])\n",
    "B = A + 1\n",
    "print(B)"
   ]
  },
  {
   "cell_type": "markdown",
   "id": "ac2e4915",
   "metadata": {},
   "source": [
    "## Universal Function"
   ]
  },
  {
   "cell_type": "code",
   "execution_count": 10,
   "id": "7c699e5a",
   "metadata": {},
   "outputs": [
    {
     "name": "stdout",
     "output_type": "stream",
     "text": [
      "2.0\n",
      "3\n"
     ]
    }
   ],
   "source": [
    "A = np.array([1,2,3])\n",
    "mean_A = A.mean()\n",
    "print(mean_A)\n",
    "\n",
    "# find Max value\n",
    "max_A = A.max()\n",
    "print(max_A)"
   ]
  },
  {
   "cell_type": "code",
   "execution_count": 19,
   "id": "76aeef0b",
   "metadata": {},
   "outputs": [
    {
     "name": "stdout",
     "output_type": "stream",
     "text": [
      "[ 2.  4.  6.  8. 10.]\n"
     ]
    }
   ],
   "source": [
    "#Linespace returns evenly spaced numbers over a specified interval.\n",
    "line_space = np.linspace(2,10,num= 5)\n",
    "print(line_space)"
   ]
  },
  {
   "cell_type": "markdown",
   "id": "fa51e7b5",
   "metadata": {},
   "source": [
    "# plotting Mathematical Function"
   ]
  },
  {
   "cell_type": "code",
   "execution_count": 5,
   "id": "97ce077e",
   "metadata": {},
   "outputs": [
    {
     "data": {
      "text/plain": [
       "[<matplotlib.lines.Line2D at 0x1ed6c2eca50>]"
      ]
     },
     "execution_count": 5,
     "metadata": {},
     "output_type": "execute_result"
    },
    {
     "data": {
      "image/png": "[encoded data removed]",
      "text/plain": [
       "<Figure size 640x480 with 1 Axes>"
      ]
     },
     "metadata": {},
     "output_type": "display_data"
    }
   ],
   "source": [
    "x = np.linspace(0,2*np.pi,100)\n",
    "y = np.sin(x)\n",
    "\n",
    "import matplotlib.pyplot as plt\n",
    "%matplotlib inline\n",
    "plt.plot(x,y)"
   ]
  },
  {
   "cell_type": "code",
   "execution_count": 7,
   "id": "fb1909d9",
   "metadata": {},
   "outputs": [
    {
     "data": {
      "image/png": "[encoded data removed]",
      "text/plain": [
       "<Figure size 600x600 with 1 Axes>"
      ]
     },
     "metadata": {},
     "output_type": "display_data"
    }
   ],
   "source": [
    "# Generate x values\n",
    "x = np.linspace(0, 2 * np.pi, 100)\n",
    "# Generate y values\n",
    "y_sin = np.sin(x)\n",
    "y_cos = np.cos(x)\n",
    "\n",
    "# Create the plot\n",
    "plt.figure(figsize=(6, 6))  # Set the figure size\n",
    "\n",
    "# Plot sine and cosine curves\n",
    "plt.plot(x, y_sin, label='sin(x)', color='blue', linestyle='-', linewidth=2)\n",
    "plt.plot(x, y_cos, label='cos(x)', color='red', linestyle='--', linewidth=2)\n",
    "\n",
    "# Add title and labels\n",
    "plt.title('Sine and Cosine Functions', fontsize=16)\n",
    "plt.xlabel('x (radians)', fontsize=12)\n",
    "plt.ylabel('y', fontsize=12)\n",
    "\n",
    "# Add grid and legend\n",
    "plt.grid(True)\n",
    "plt.legend(loc='upper right')\n",
    "\n",
    "# Show the plot\n",
    "plt.show()"
   ]
  },
  {
   "cell_type": "markdown",
   "id": "10c54dcc",
   "metadata": {},
   "source": [
    "## Numpy 2D Array\n"
   ]
  },
  {
   "cell_type": "code",
   "execution_count": 10,
   "id": "df6fc924",
   "metadata": {},
   "outputs": [
    {
     "name": "stdout",
     "output_type": "stream",
     "text": [
      "[[1 2 3]\n",
      " [4 5 6]\n",
      " [9 8 7]]\n"
     ]
    },
    {
     "data": {
      "text/plain": [
       "2"
      ]
     },
     "execution_count": 10,
     "metadata": {},
     "output_type": "execute_result"
    }
   ],
   "source": [
    "# Creating a 2D numpy array\n",
    "\n",
    "Array_2d = np.array([[1,2,3],[4,5,6],[9,8,7]])\n",
    "print(Array_2d)\n",
    "Array_2d.size\n",
    "Array_2d.ndim"
   ]
  },
  {
   "cell_type": "code",
   "execution_count": 11,
   "id": "6e497704",
   "metadata": {},
   "outputs": [
    {
     "data": {
      "text/plain": [
       "(3, 3)"
      ]
     },
     "execution_count": 11,
     "metadata": {},
     "output_type": "execute_result"
    }
   ],
   "source": [
    "# Shape of Array\n",
    "Array_2d.shape"
   ]
  },
  {
   "cell_type": "code",
   "execution_count": 15,
   "id": "44f49d98",
   "metadata": {},
   "outputs": [
    {
     "data": {
      "text/plain": [
       "np.int64(6)"
      ]
     },
     "execution_count": 15,
     "metadata": {},
     "output_type": "execute_result"
    }
   ],
   "source": [
    "# Accessing element of Numpy Array\n",
    "# Access the element on the second row and third column\n",
    "Array_2d[1,2]\n",
    "# we can also use these notation\n",
    "Array_2d[1][2]"
   ]
  },
  {
   "cell_type": "code",
   "execution_count": 48,
   "id": "fd74b9b3",
   "metadata": {},
   "outputs": [
    {
     "data": {
      "text/plain": [
       "array([[1, 2, 3],\n",
       "       [4, 5, 6],\n",
       "       [9, 8, 7]])"
      ]
     },
     "execution_count": 48,
     "metadata": {},
     "output_type": "execute_result"
    }
   ],
   "source": [
    "# slicing the element in numpy array\n",
    "Array_2d[:3,0:]"
   ]
  }
 ],
 "metadata": {
  "kernelspec": {
   "display_name": ".venv",
   "language": "python",
   "name": "python3"
  },
  "language_info": {
   "codemirror_mode": {
    "name": "ipython",
    "version": 3
   },
   "file_extension": ".py",
   "mimetype": "text/x-python",
   "name": "python",
   "nbconvert_exporter": "python",
   "pygments_lexer": "ipython3",
   "version": "3.13.1"
  }
 },
 "nbformat": 4,
 "nbformat_minor": 5
}

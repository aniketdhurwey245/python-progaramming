{
 "cells": [
  {
   "cell_type": "markdown",
   "id": "fd2e13d6",
   "metadata": {},
   "source": [
    "##  Numpy Array and Basics"
   ]
  },
  {
   "cell_type": "code",
   "execution_count": 2,
   "id": "447474e6",
   "metadata": {},
   "outputs": [],
   "source": [
    "import numpy as np\n",
    "import time\n",
    "import matplotlib.pyplot as plt"
   ]
  },
  {
   "cell_type": "markdown",
   "id": "cc9b38a1",
   "metadata": {},
   "source": [
    "### Creating array from list"
   ]
  },
  {
   "cell_type": "code",
   "execution_count": 4,
   "id": "a082b73a",
   "metadata": {},
   "outputs": [
    {
     "name": "stdout",
     "output_type": "stream",
     "text": [
      "1D Array: [1 2 3 4]\n",
      "2D Array: [[1 2 3]\n",
      " [4 5 6]]\n"
     ]
    }
   ],
   "source": [
    "arr_1d = np.array([1,2,3,4])\n",
    "print(\"1D Array:\",arr_1d)\n",
    "\n",
    "arr_2d = np.array([[1,2,3],[4,5,6]])\n",
    "print(\"2D Array:\",arr_2d)"
   ]
  },
  {
   "cell_type": "markdown",
   "id": "70f8fa03",
   "metadata": {},
   "source": [
    "### List vs Numpy Array"
   ]
  },
  {
   "cell_type": "code",
   "execution_count": 11,
   "id": "56041cb2",
   "metadata": {},
   "outputs": [
    {
     "name": "stdout",
     "output_type": "stream",
     "text": [
      "Python list multiplication [1, 2, 3, 1, 2, 3]\n",
      "Numpy Array multiplication [2 4 6]\n"
     ]
    }
   ],
   "source": [
    "py_list = [1,2,3]\n",
    "print(\"Python list multiplication\", py_list*2)\n",
    "\n",
    "np_array = np.array([1,2,3]) #element wise multiplication \n",
    "print(\"Numpy Array multiplication\",np_array*2)"
   ]
  },
  {
   "cell_type": "code",
   "execution_count": 14,
   "id": "68915f23",
   "metadata": {},
   "outputs": [
    {
     "name": "stdout",
     "output_type": "stream",
     "text": [
      "\n",
      " List operation time:  0.0010764598846435547\n",
      "\n",
      "  numpy operation time: 0.00018358230590820312\n"
     ]
    }
   ],
   "source": [
    "start = time.time()\n",
    "py_list = [i*2 for i in range(10000)]\n",
    "print(\"\\n List operation time: \", time.time()-start)\n",
    "\n",
    "start = time.time()\n",
    "np_array = np.arange(10000)*2\n",
    "print(\"\\n  numpy operation time:\", time.time()-start)"
   ]
  },
  {
   "cell_type": "markdown",
   "id": "dea7be99",
   "metadata": {},
   "source": [
    "### Creating Array from Scratch\n"
   ]
  },
  {
   "cell_type": "code",
   "execution_count": 20,
   "id": "a1873a9c",
   "metadata": {},
   "outputs": [
    {
     "name": "stdout",
     "output_type": "stream",
     "text": [
      "zeroes array: \n",
      " [[0. 0. 0. 0.]\n",
      " [0. 0. 0. 0.]\n",
      " [0. 0. 0. 0.]]\n",
      "ones array: \n",
      " [[1. 1. 1. 1.]\n",
      " [1. 1. 1. 1.]\n",
      " [1. 1. 1. 1.]]\n",
      "full array: \n",
      " [[8 8]\n",
      " [8 8]]\n",
      "random array: \n",
      " [[0.5307849  0.45305346 0.30399594]\n",
      " [0.84084966 0.94875741 0.28127243]]\n",
      "sequence array: \n",
      " [0 2 4 6 8]\n"
     ]
    }
   ],
   "source": [
    "# creating Array\n",
    "zeros = np.zeros((3,4))\n",
    "print(\"zeroes array: \\n\", zeros)\n",
    "\n",
    "ones = np.ones((3,4))\n",
    "print(\"ones array: \\n\",ones)\n",
    "\n",
    "full = np.full((2,2),8)\n",
    "print(\"full array: \\n\",full)\n",
    "\n",
    "random = np.random.random((2,3))\n",
    "print(\"random array: \\n\",random)\n",
    "\n",
    "sequence = np.arange(0,10,2)\n",
    "print(\"sequence array: \\n\",sequence)\n"
   ]
  },
  {
   "cell_type": "markdown",
   "id": "1b888e39",
   "metadata": {},
   "source": [
    "### Vector Matrix and Tensor"
   ]
  },
  {
   "cell_type": "code",
   "execution_count": 21,
   "id": "7b8040d1",
   "metadata": {},
   "outputs": [
    {
     "name": "stdout",
     "output_type": "stream",
     "text": [
      "Vector : [1 2 3]\n",
      "Matrix : [[1 2 3]\n",
      " [4 5 6]\n",
      " [7 8 9]]\n",
      "Tensor : [[[1 2]\n",
      "  [3 4]]\n",
      "\n",
      " [[5 6]\n",
      "  [7 8]]]\n"
     ]
    }
   ],
   "source": [
    "# creating vector\n",
    "vector = np.array([1,2,3])\n",
    "print(\"Vector :\",vector)\n",
    "\n",
    "# 2d Array is Matrix\n",
    "matrix = np.array([[1,2,3],[4,5,6],[7,8,9]])\n",
    "print(\"Matrix :\",matrix)\n",
    "\n",
    "# Tensor Having more than 2 dimensions\n",
    "tensor = np.array([[[1,2],[3,4]],[[5,6],[7,8]]])\n",
    "print(\"Tensor :\",tensor)"
   ]
  },
  {
   "cell_type": "markdown",
   "id": "908bf554",
   "metadata": {},
   "source": [
    "### Array properties"
   ]
  },
  {
   "cell_type": "code",
   "execution_count": 22,
   "id": "ec98c8df",
   "metadata": {},
   "outputs": [
    {
     "name": "stdout",
     "output_type": "stream",
     "text": [
      "Shape  (2, 3)\n",
      "Size  6\n",
      "Dtype  int64\n",
      "dimensions  2\n"
     ]
    }
   ],
   "source": [
    "arr = np.array([[1,2,3],[4,5,6]])\n",
    "print(\"Shape \",arr.shape)\n",
    "print(\"Size \",arr.size)\n",
    "print(\"Dtype \",arr.dtype)\n",
    "print(\"dimensions \",arr.ndim)"
   ]
  },
  {
   "cell_type": "markdown",
   "id": "a19916eb",
   "metadata": {},
   "source": [
    "### Array Reshaping"
   ]
  },
  {
   "cell_type": "code",
   "execution_count": 30,
   "id": "2d006b03",
   "metadata": {},
   "outputs": [
    {
     "name": "stdout",
     "output_type": "stream",
     "text": [
      "Original array  [ 0  1  2  3  4  5  6  7  8  9 10 11]\n",
      "\n",
      " Reshaped array  [[ 0  1  2  3]\n",
      " [ 4  5  6  7]\n",
      " [ 8  9 10 11]]\n",
      "\n",
      " flattend array  [ 0  1  2  3  4  5  6  7  8  9 10 11]\n",
      "\n",
      " raveled array  [ 0  1  2  3  4  5  6  7  8  9 10 11]\n",
      "\n",
      " Transpose array  [[ 0  4  8]\n",
      " [ 1  5  9]\n",
      " [ 2  6 10]\n",
      " [ 3  7 11]]\n"
     ]
    }
   ],
   "source": [
    "arr = np.arange(12)\n",
    "print(\"Original array \", arr)\n",
    "\n",
    "reshaped = arr.reshape(3,4)\n",
    "print(\"\\n Reshaped array \", reshaped)\n",
    "\n",
    "flattened = reshaped.flatten()\n",
    "print(\"\\n flattend array \", flattened)\n",
    "\n",
    "\n",
    "#  ravel { return view, instead of copy}\n",
    "raveled = reshaped.ravel()\n",
    "print(\"\\n raveled array \", raveled)\n",
    "\n",
    "\n",
    "# Transpose\n",
    "transpose = reshaped.T\n",
    "print(\"\\n Transpose array \", transpose)\n"
   ]
  },
  {
   "cell_type": "markdown",
   "id": "03b60457",
   "metadata": {},
   "source": [
    "# Phase 2"
   ]
  },
  {
   "cell_type": "markdown",
   "id": "8a8e0cf8",
   "metadata": {},
   "source": [
    "### Numpy Array Operations Indexing Slicing"
   ]
  },
  {
   "cell_type": "code",
   "execution_count": 34,
   "id": "15088340",
   "metadata": {},
   "outputs": [
    {
     "name": "stdout",
     "output_type": "stream",
     "text": [
      "[ 1  2  3  4  5  6  7  8  9 10 11]\n",
      "Basics Slicing [3 4 5 6 7]\n",
      "With Step [2 4 6 8]\n",
      "negative indexing 9\n"
     ]
    }
   ],
   "source": [
    "arr = np.arange(1,12)\n",
    "print(arr)\n",
    "\n",
    "print(\"Basics Slicing\", arr[2:7])\n",
    "print(\"With Step\",arr[1:8:2])\n",
    "print(\"negative indexing\", arr[-3])"
   ]
  },
  {
   "cell_type": "markdown",
   "id": "089f568c",
   "metadata": {},
   "source": [
    "#### 2_D Array Indexing And Slicing"
   ]
  },
  {
   "cell_type": "code",
   "execution_count": null,
   "id": "285b7a54",
   "metadata": {},
   "outputs": [
    {
     "name": "stdout",
     "output_type": "stream",
     "text": [
      "Specific element 6\n",
      "Entire row [4 5 6]\n",
      "Entire row [2 5 8]\n"
     ]
    }
   ],
   "source": [
    "arr_2d = np.array([[1,2,3],\n",
    "                   [4,5,6],\n",
    "                   [7,8,9]])\n",
    "print(\"Specific element\",arr_2d[1,2])\n",
    "print(\"Entire row\",arr_2d[1])\n",
    "print(\"Entire row \",arr_2d[:,1])"
   ]
  },
  {
   "cell_type": "markdown",
   "id": "1fb9178b",
   "metadata": {},
   "source": [
    "### Sorting\n"
   ]
  },
  {
   "cell_type": "code",
   "execution_count": 39,
   "id": "f3336170",
   "metadata": {},
   "outputs": [
    {
     "name": "stdout",
     "output_type": "stream",
     "text": [
      "Sorted Array  [1 2 3 4 5 6 7 8 9]\n",
      "Sorted 2d array by column [[1 1]\n",
      " [2 2]\n",
      " [3 3]]\n",
      "Sorted 2d array by row [[1 3]\n",
      " [1 2]\n",
      " [2 3]]\n"
     ]
    }
   ],
   "source": [
    "unsorted = np.array([9,3,4,5,1,7,6,8,2])\n",
    "print(\"Sorted Array \", np.sort(unsorted))\n",
    "\n",
    "arr_2d_unsorted = np.array([[3,1],[1,2],[2,3]])\n",
    "print(\"Sorted 2d array by column\", np.sort(arr_2d_unsorted, axis =0)) # axis 0 represnt column and axis = 1 row\n",
    "print(\"Sorted 2d array by row\", np.sort(arr_2d_unsorted, axis = 1))"
   ]
  },
  {
   "cell_type": "markdown",
   "id": "48c4c3ac",
   "metadata": {},
   "source": [
    "## Filter"
   ]
  },
  {
   "cell_type": "code",
   "execution_count": null,
   "id": "201290c7",
   "metadata": {},
   "outputs": [
    {
     "name": "stdout",
     "output_type": "stream",
     "text": [
      "[ 0  1  2  3  4  5  6  7  8  9 10]\n",
      "Even numbers [ 0  2  4  6  8 10]\n"
     ]
    }
   ],
   "source": [
    "numbers = np.arange(1,11)\n",
    "print(numbers)\n",
    "even_number = numbers[numbers % 2 == 0]\n",
    "print(\"Even numbers\", even_number)"
   ]
  },
  {
   "cell_type": "markdown",
   "id": "ced335dc",
   "metadata": {},
   "source": [
    "### Filter with mask"
   ]
  },
  {
   "cell_type": "code",
   "execution_count": 41,
   "id": "7972e8ad",
   "metadata": {},
   "outputs": [
    {
     "name": "stdout",
     "output_type": "stream",
     "text": [
      "number greater than 5 [ 6  7  8  9 10]\n"
     ]
    }
   ],
   "source": [
    "mask = numbers>5\n",
    "print(\"number greater than 5\", numbers[mask])"
   ]
  },
  {
   "cell_type": "markdown",
   "id": "31d1ee59",
   "metadata": {},
   "source": [
    "## Fancy indexing vs np.where"
   ]
  },
  {
   "cell_type": "code",
   "execution_count": 43,
   "id": "6f53e843",
   "metadata": {},
   "outputs": [
    {
     "name": "stdout",
     "output_type": "stream",
     "text": [
      "[0 2 4]\n",
      "(array([ 6,  7,  8,  9, 10]),)\n",
      "np where [ 6  7  8  9 10]\n"
     ]
    }
   ],
   "source": [
    "indices = [0,2,4]\n",
    "print (numbers[indices])\n",
    "\n",
    "\n",
    "where_result = np.where(numbers>5)\n",
    "print(where_result)\n",
    "print(\"np where\",numbers[where_result])"
   ]
  },
  {
   "cell_type": "code",
   "execution_count": 44,
   "id": "5d5a3032",
   "metadata": {},
   "outputs": [
    {
     "name": "stdout",
     "output_type": "stream",
     "text": [
      "[ 0  1  2  3  4  5 24 28 32 36 40]\n"
     ]
    }
   ],
   "source": [
    "condition_array = np.where(numbers>5,numbers*4, numbers)\n",
    "print(condition_array)"
   ]
  },
  {
   "cell_type": "markdown",
   "id": "357bca95",
   "metadata": {},
   "source": [
    "### Adding and Removing data"
   ]
  },
  {
   "cell_type": "code",
   "execution_count": 45,
   "id": "32aaca8f",
   "metadata": {},
   "outputs": [
    {
     "name": "stdout",
     "output_type": "stream",
     "text": [
      "[1 2 3 4 5 6]\n"
     ]
    }
   ],
   "source": [
    "arr1 = np.array([1,2,3])\n",
    "arr2 = np.array([4,5,6])\n",
    "combined = np.concatenate((arr1,arr2))\n",
    "print(combined)"
   ]
  },
  {
   "cell_type": "markdown",
   "id": "dc8552dc",
   "metadata": {},
   "source": [
    "### Array compatibility"
   ]
  },
  {
   "cell_type": "code",
   "execution_count": 48,
   "id": "cce329db",
   "metadata": {},
   "outputs": [
    {
     "name": "stdout",
     "output_type": "stream",
     "text": [
      "Compatibility shapes True\n"
     ]
    }
   ],
   "source": [
    "a = np.array([1,2,3])\n",
    "b = np.array([4,5,6,])\n",
    "c = np.array([7,8,9])\n",
    "\n",
    "print(\"Compatibility shapes\", a.shape == b.shape)"
   ]
  },
  {
   "cell_type": "code",
   "execution_count": 50,
   "id": "c372e047",
   "metadata": {},
   "outputs": [
    {
     "name": "stdout",
     "output_type": "stream",
     "text": [
      "[[1 2]\n",
      " [3 4]]\n",
      "[[1 2]\n",
      " [3 4]\n",
      " [5 6]]\n",
      "with new column [[1 2 7]\n",
      " [3 4 8]]\n"
     ]
    }
   ],
   "source": [
    "original = np.array([[1,2],[3,4]])\n",
    "new_row = np.array([[5,6]])\n",
    "\n",
    "with_new_row = np.vstack((original, new_row))\n",
    "print(original)\n",
    "print(with_new_row)\n",
    "\n",
    "new_col = np.array([[7],[8]])\n",
    "with_new_col = np.hstack((original,new_col))\n",
    "print('with new column',with_new_col)"
   ]
  },
  {
   "cell_type": "code",
   "execution_count": 51,
   "id": "80315a39",
   "metadata": {},
   "outputs": [
    {
     "name": "stdout",
     "output_type": "stream",
     "text": [
      "Array after deletion:  [1 2 4]\n"
     ]
    }
   ],
   "source": [
    "# deleting element\n",
    "arr = np.array([1,2,3,4])\n",
    "deleted = np.delete(arr,2)\n",
    "print(\"Array after deletion: \", deleted)"
   ]
  },
  {
   "cell_type": "markdown",
   "id": "3adc8eaa",
   "metadata": {},
   "source": [
    "# Phase 3"
   ]
  },
  {
   "cell_type": "markdown",
   "id": "d2259977",
   "metadata": {},
   "source": [
    "### Adavance operation with Bussiness example"
   ]
  },
  {
   "cell_type": "code",
   "execution_count": 7,
   "id": "9eb2a4eb",
   "metadata": {},
   "outputs": [
    {
     "name": "stdout",
     "output_type": "stream",
     "text": [
      "=== Zomato sales analysis ===\n",
      "\n",
      " sale data shape (5, 5)\n",
      "[[15000 18000 22000 25000]\n",
      " [12000 14000 16000 19000]\n",
      " [20000 23000 26000 30000]]\n"
     ]
    }
   ],
   "source": [
    "# Data structure : [restaurant_id,2021,2022,2023,2024]\n",
    "\n",
    "sales_data = np.array([[1, 15000, 18000, 22000, 25000],# Paradise Biryani \n",
    "                       [2, 12000, 14000, 16000, 19000],# beijing Bites\n",
    "                       [3, 20000, 23000, 26000, 30000],# Pizza hub\n",
    "                       [4, 18000, 21000, 24000, 27000],# Burger Point\n",
    "                       [5, 16000, 18500, 20500, 23000] # chai point\n",
    "                       ])\n",
    "\n",
    "print(\"=== Zomato sales analysis ===\")\n",
    "\n",
    "print(\"\\n sale data shape\", sales_data.shape)\n",
    "\n",
    "# Selecting data of First 3 Restaurant\n",
    "print(sales_data[:3,1:])\n"
   ]
  },
  {
   "cell_type": "code",
   "execution_count": 22,
   "id": "b5387ff2",
   "metadata": {},
   "outputs": [
    {
     "name": "stdout",
     "output_type": "stream",
     "text": [
      "4 year sales total of a restaurant [80000 61000 99000 90000 78000]\n",
      "\n",
      " sum total of  year : [ 81000  94500 108500 124000]\n",
      "[15000 12000 20000 18000 16000]\n",
      "[20000 23000 26000 30000]\n",
      "\n",
      " [20000. 15250. 24750. 22500. 19500.]\n"
     ]
    }
   ],
   "source": [
    "# Total sale per Year\n",
    "print(\"4 year sales total of a restaurant\" ,np.sum(sales_data[:,1:], axis=1))\n",
    "\n",
    "yearly_total = np.sum(sales_data[:,1:], axis=0)\n",
    "print(\"\\n sum total of  year :\", yearly_total)\n",
    "\n",
    "\n",
    "# Minimum sale per restaurant\n",
    "min_sales=np.min(sales_data[:,1:], axis=1)\n",
    "print(min_sales)\n",
    "\n",
    "\n",
    "# Maximum sales per year\n",
    "max_sales = np.max(sales_data[:,1:], axis=0)\n",
    "print(max_sales)\n",
    "\n",
    "\n",
    "# Average sale per restaurant\n",
    "avg_sales = np.mean(sales_data[:,1:], axis=1)\n",
    "print(\"\\n\",avg_sales)"
   ]
  },
  {
   "cell_type": "code",
   "execution_count": 25,
   "id": "f8105894",
   "metadata": {},
   "outputs": [
    {
     "name": "stdout",
     "output_type": "stream",
     "text": [
      "[[15000 33000 55000 80000]\n",
      " [12000 26000 42000 61000]\n",
      " [20000 43000 69000 99000]\n",
      " [18000 39000 63000 90000]\n",
      " [16000 34500 55000 78000]]\n"
     ]
    },
    {
     "data": {
      "image/png": "[encoded data removed]",
      "text/plain": [
       "<Figure size 1000x600 with 1 Axes>"
      ]
     },
     "metadata": {},
     "output_type": "display_data"
    }
   ],
   "source": [
    "# cumulative sum\n",
    "cumsums =np.cumsum(sales_data[:,1:], axis=1)\n",
    "print(cumsums)\n",
    "\n",
    "# plotting graph for cumulative sum\n",
    "plt.figure(figsize =(10,6))\n",
    "plt.plot(np.mean(cumsums,axis=0))\n",
    "plt.title(\"Average cumulative sales accross all restaurant\")\n",
    "plt.xlabel(\"Years\")\n",
    "plt.ylabel(\"sales\")\n",
    "plt.grid(True)\n",
    "plt.show()"
   ]
  },
  {
   "cell_type": "code",
   "execution_count": 3,
   "id": "e87447bc",
   "metadata": {},
   "outputs": [
    {
     "name": "stdout",
     "output_type": "stream",
     "text": [
      "[ 7  9 11 13 15]\n",
      "vector multiplication [ 6 14 24 36 50]\n",
      "\n",
      " vector dot product 130\n",
      "0.26554161733900966\n"
     ]
    }
   ],
   "source": [
    "# Vector operation\n",
    "vector1 = np.array([1,2,3,4,5])\n",
    "vector2 = np.array([6,7,8,9,10])\n",
    "vector_addition = vector1 + vector2\n",
    "print(vector_addition)\n",
    "\n",
    "print(\"vector multiplication\", vector1*vector2)\n",
    "\n",
    "print(\"\\n vector dot product\", np.dot(vector1, vector2))\n",
    "\n",
    "angle =np.arccos(np.dot(vector1, vector2)/(np.linalg.norm(vector1)*np.linalg.norm(vector2)))\n",
    "print(angle)"
   ]
  },
  {
   "cell_type": "code",
   "execution_count": 5,
   "id": "a6efef63",
   "metadata": {},
   "outputs": [
    {
     "name": "stdout",
     "output_type": "stream",
     "text": [
      "['BIRYANI' 'CHINESE' 'PIZZA' 'BURGER' 'CAFE']\n"
     ]
    }
   ],
   "source": [
    "# vectorise operation\n",
    "restaurant_types = np.array(['biryani','chinese','pizza','burger','cafe'])\n",
    "vectorized_upper = np.vectorize(str.upper)\n",
    "print(vectorized_upper(restaurant_types))"
   ]
  },
  {
   "cell_type": "code",
   "execution_count": 8,
   "id": "bdc1d931",
   "metadata": {},
   "outputs": [
    {
     "name": "stdout",
     "output_type": "stream",
     "text": [
      "[[1250.         1500.         1833.33333333 2083.33333333]\n",
      " [1000.         1166.66666667 1333.33333333 1583.33333333]\n",
      " [1666.66666667 1916.66666667 2166.66666667 2500.        ]\n",
      " [1500.         1750.         2000.         2250.        ]\n",
      " [1333.33333333 1541.66666667 1708.33333333 1916.66666667]]\n"
     ]
    }
   ],
   "source": [
    "# Broadcasting\n",
    "monthly_avg = sales_data[:,1:]/12\n",
    "print(monthly_avg)\n"
   ]
  },
  {
   "cell_type": "markdown",
   "id": "553b69b3",
   "metadata": {},
   "source": [
    "# Phase 4"
   ]
  },
  {
   "cell_type": "code",
   "execution_count": 11,
   "id": "b328b243",
   "metadata": {},
   "outputs": [],
   "source": [
    "array1 = np.array([[1,2,3],[4,5,6]])\n",
    "array2 = np.random.rand(3,3)\n",
    "array3 = np.zeros((4,4))\n",
    "\n",
    "\n",
    "# Save the file\n",
    "np.save('array1.npy', array1)"
   ]
  },
  {
   "cell_type": "code",
   "execution_count": 12,
   "id": "2b610265",
   "metadata": {},
   "outputs": [
    {
     "name": "stdout",
     "output_type": "stream",
     "text": [
      "[[1 2 3]\n",
      " [4 5 6]]\n"
     ]
    }
   ],
   "source": [
    "# load array\n",
    "loaded_array1 = np.load('array1.npy')\n",
    "print(loaded_array1)"
   ]
  }
 ],
 "metadata": {
  "kernelspec": {
   "display_name": ".venv",
   "language": "python",
   "name": "python3"
  },
  "language_info": {
   "codemirror_mode": {
    "name": "ipython",
    "version": 3
   },
   "file_extension": ".py",
   "mimetype": "text/x-python",
   "name": "python",
   "nbconvert_exporter": "python",
   "pygments_lexer": "ipython3",
   "version": "3.13.1"
  }
 },
 "nbformat": 4,
 "nbformat_minor": 5
}
